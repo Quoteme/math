{
 "cells": [
  {
   "cell_type": "markdown",
   "metadata": {},
   "source": [
    "# Die epsilon Funktion"
   ]
  },
  {
   "cell_type": "markdown",
   "metadata": {},
   "source": [
    "Wir konstruieren eine neue Menge\n",
    "$$H=\\mathbb{R}\\cup \\{\\epsilon\\}$$\n",
    "und definieren darauf zwei Verknüpfungen $$+, \\cdot \\text{ mit } \\epsilon^2=0, \\epsilon\\neq 0 $$\n",
    "\n",
    "Nun wollen wir die Eigenschaften von $(H, +, \\cdot) $ herausfinden"
   ]
  },
  {
   "cell_type": "code",
   "execution_count": 64,
   "metadata": {},
   "outputs": [],
   "source": [
    "import numpy as np\n",
    "import matplotlib.pyplot as plt\n",
    "%matplotlib inline\n",
    "import matplotlib.cbook as cbook\n",
    "import random as random\n",
    "# für widgets zum interagieren\n",
    "from __future__ import print_function\n",
    "from ipywidgets import interact, interactive, fixed, interact_manual\n",
    "import ipywidgets as widgets"
   ]
  },
  {
   "cell_type": "code",
   "execution_count": 100,
   "metadata": {},
   "outputs": [],
   "source": [
    "class Epsilon:\n",
    "    def __init__(self,a,b):\n",
    "        self.re = a\n",
    "        self.ep = b\n",
    "    def __add__ (self, other):\n",
    "        return Epsilon(self.re*other.re,self.ep+other.ep)\n",
    "    def __mul__ (self, other):\n",
    "        # distributivgesetz\n",
    "        return Epsilon(self.re*other.re,self.re*other.ep+self.ep*other.re)\n",
    "    def __abs__ (self):\n",
    "        return np.hypot(self.re,self.ep)\n",
    "    def __pow__ (self, other):\n",
    "        # e^x = Summe von x^n/n! für n = 0,1,...\n",
    "        # e^(a+bε) = e^a * e^(bε)\n",
    "        # e^(b*ε) = (e^ε)^b\n",
    "        # e^ε  = 1/0! + ε/1! + 0/3! + 0/4! + ...\n",
    "        #      = 1+ε\n",
    "        # => x in IR, x^(a+bε) = e^ln(x)*(a+bε) = e^(ln(x)*a) * (1+ε)^(ln(x)*b)\n",
    "        # (a+bε)^x = e^(ln(a+bε)*x)\n",
    "        # ln(a+bε) = c+dε <=> e^(c+dε) = a+bε\n",
    "        #                 <=> e^c * d(1+ε) = a+bε\n",
    "        #                 <=> e^c*d + e^c*dε = a+bε\n",
    "        # => ln(a+bε) existier <=> a=b = e^c*d, c,d in IR\n",
    "        if other == 0:\n",
    "            return Epsilon(0,0)\n",
    "        if type(other) is int and other > 0:\n",
    "            return np.prod([self for i in range(other)])\n",
    "        raise ValueError('bisher nur für IN_0 Exponenten implementiert')\n",
    "    def __repr__ (self):\n",
    "        return str(self.re)+\" + \"+str(self.ep)+\"ε\" "
   ]
  },
  {
   "cell_type": "code",
   "execution_count": 3,
   "metadata": {},
   "outputs": [
    {
     "data": {
      "text/plain": [
       "1 + 1ε"
      ]
     },
     "execution_count": 3,
     "metadata": {},
     "output_type": "execute_result"
    }
   ],
   "source": [
    "Epsilon(1,1)"
   ]
  },
  {
   "cell_type": "code",
   "execution_count": 4,
   "metadata": {},
   "outputs": [
    {
     "data": {
      "text/plain": [
       "2 + 4ε"
      ]
     },
     "execution_count": 4,
     "metadata": {},
     "output_type": "execute_result"
    }
   ],
   "source": [
    "Epsilon(1,1)+Epsilon(2,3)"
   ]
  },
  {
   "cell_type": "code",
   "execution_count": 5,
   "metadata": {},
   "outputs": [
    {
     "data": {
      "text/plain": [
       "0 + 0ε"
      ]
     },
     "execution_count": 5,
     "metadata": {},
     "output_type": "execute_result"
    }
   ],
   "source": [
    "Epsilon(1,0)*Epsilon(0,0)"
   ]
  },
  {
   "cell_type": "code",
   "execution_count": 6,
   "metadata": {
    "scrolled": true
   },
   "outputs": [
    {
     "data": {
      "text/plain": [
       "(1, 2)"
      ]
     },
     "execution_count": 6,
     "metadata": {},
     "output_type": "execute_result"
    }
   ],
   "source": [
    "(Epsilon(1,2).re, Epsilon(1,2).ep)"
   ]
  },
  {
   "cell_type": "markdown",
   "metadata": {},
   "source": [
    "### Multiplikativer Effekt"
   ]
  },
  {
   "cell_type": "code",
   "execution_count": 55,
   "metadata": {
    "scrolled": false
   },
   "outputs": [
    {
     "data": {
      "application/vnd.jupyter.widget-view+json": {
       "model_id": "156021db9c1740079474306aa1bf78ac",
       "version_major": 2,
       "version_minor": 0
      },
      "text/plain": [
       "interactive(children=(FloatSlider(value=0.5, description='re', max=1.5, min=-0.5), FloatSlider(value=0.5, desc…"
      ]
     },
     "metadata": {},
     "output_type": "display_data"
    }
   ],
   "source": [
    "def gitterplot(a, x=-5, y=-5, w=10, h=10):\n",
    "    # Erstelle ein Gitter (Grid) aus Epsilonzahlen\n",
    "    xn = np.linspace(x,w,30)\n",
    "    yn = np.linspace(y,h,10)\n",
    "    grid = np.array([[Epsilon(x,y) for y in yn] for x in xn]) \n",
    "    print(\"a = \" + str(a))\n",
    "    fig, ax = plt.subplots()\n",
    "    #ax.scatter(x, y, s, c, marker=verts)\n",
    "    for p in grid.flatten():\n",
    "        v = a*p\n",
    "        ax.scatter(v.re, v.ep, c='#4545d6' if abs(p.re)<1/4 or abs(p.ep)<1/4 else '#383838')\n",
    "    plt.grid(True)\n",
    "    plt.show()\n",
    "\n",
    "@interact(re=0.5, ep=0.5)\n",
    "def f(re,ep):\n",
    "    gitterplot(Epsilon(re,ep))"
   ]
  },
  {
   "cell_type": "markdown",
   "metadata": {},
   "source": [
    "Da der obrige Codeblock ein IPython-Widget beinhaltet, kann es dazu kommen, dass der Graph nicht dargestellt werden kann. Für diesen Fall ist hier noch ein Bild des Graphen, wenn $a=0.5+0.5\\epsilon$ gewählt wird:"
   ]
  },
  {
   "cell_type": "code",
   "execution_count": 162,
   "metadata": {},
   "outputs": [
    {
     "name": "stdout",
     "output_type": "stream",
     "text": [
      "a = 0.5 + 0.5ε\n"
     ]
    },
    {
     "data": {
      "image/png": "[encoded data removed]",
      "text/plain": [
       "<Figure size 432x288 with 1 Axes>"
      ]
     },
     "metadata": {
      "needs_background": "light"
     },
     "output_type": "display_data"
    }
   ],
   "source": [
    "gitterplot(Epsilon(0.5,0.5))"
   ]
  },
  {
   "cell_type": "markdown",
   "metadata": {},
   "source": [
    "### Potenzwege"
   ]
  },
  {
   "cell_type": "markdown",
   "metadata": {},
   "source": [
    "Nun wollen wir betrachten, wie eine Folge der folgenden Form aussieht\n",
    "$$ (a_0,a_1,\\dots,a_n), \\quad a_{i+1} = b\\cdot a_i, \\quad a_0,b \\in H $$"
   ]
  },
  {
   "cell_type": "code",
   "execution_count": 161,
   "metadata": {},
   "outputs": [
    {
     "data": {
      "application/vnd.jupyter.widget-view+json": {
       "model_id": "ab8b15e68fdd4b809b1fcf2f378c0e0e",
       "version_major": 2,
       "version_minor": 0
      },
      "text/plain": [
       "interactive(children=(IntSlider(value=40, description='n', max=120, min=-40), FloatSlider(value=0.9, descripti…"
      ]
     },
     "metadata": {},
     "output_type": "display_data"
    }
   ],
   "source": [
    "@interact(n=40, b_re=0.9, b_ep=0.9, a0_re=1, a0_ep=0)\n",
    "def pathplot(n=40, b_re=0.9, b_ep=0.9, a0_re=1, a0_ep=0):\n",
    "    b = Epsilon(b_re,b_ep)\n",
    "    a0= Epsilon(a0_re,a0_ep)\n",
    "    a = [b**i * a0 for i in range(n)]\n",
    "    fig, ax = plt.subplots()\n",
    "    print(\"a0 = \"+str(a0))\n",
    "    print(\"b = \"+str(b))\n",
    "    print(\"n = \"+str(n))\n",
    "    ax.plot([p.re for p in a], [p.ep for p in a])\n",
    "    plt.grid(True)\n",
    "    plt.show()"
   ]
  },
  {
   "cell_type": "markdown",
   "metadata": {},
   "source": [
    "Wie vorher schon, ist der obrige Codeblock ein IPython-Widget und wenn er nicht interactiv in Jupyter Notebook ausgeführt wird, zeigt er keinen Grapher an. Daher ist hier eine Sammlung interessanter Wege:"
   ]
  },
  {
   "cell_type": "code",
   "execution_count": 163,
   "metadata": {},
   "outputs": [
    {
     "name": "stdout",
     "output_type": "stream",
     "text": [
      "a0 = 1 + 0ε\n",
      "b = 0.9 + 0.9ε\n",
      "n = 100\n"
     ]
    },
    {
     "data": {
      "image/png": "[encoded data removed]",
      "text/plain": [
       "<Figure size 432x288 with 1 Axes>"
      ]
     },
     "metadata": {
      "needs_background": "light"
     },
     "output_type": "display_data"
    }
   ],
   "source": [
    "pathplot(100, 0.9,0.9, 1,0)"
   ]
  },
  {
   "cell_type": "code",
   "execution_count": 164,
   "metadata": {},
   "outputs": [
    {
     "name": "stdout",
     "output_type": "stream",
     "text": [
      "a0 = 1 + 0ε\n",
      "b = 1 + 1ε\n",
      "n = 20\n"
     ]
    },
    {
     "data": {
      "image/png": "[encoded data removed]",
      "text/plain": [
       "<Figure size 432x288 with 1 Axes>"
      ]
     },
     "metadata": {
      "needs_background": "light"
     },
     "output_type": "display_data"
    }
   ],
   "source": [
    "pathplot(20, 1,1, 1,0)"
   ]
  },
  {
   "cell_type": "code",
   "execution_count": 173,
   "metadata": {},
   "outputs": [
    {
     "name": "stdout",
     "output_type": "stream",
     "text": [
      "a0 = 1 + 1ε\n",
      "b = 2 + 1ε\n",
      "n = 10\n"
     ]
    },
    {
     "data": {
      "image/png": "[encoded data removed]",
      "text/plain": [
       "<Figure size 432x288 with 1 Axes>"
      ]
     },
     "metadata": {
      "needs_background": "light"
     },
     "output_type": "display_data"
    }
   ],
   "source": [
    "pathplot(10, 2,1, 1,1)"
   ]
  }
 ],
 "metadata": {
  "kernelspec": {
   "display_name": "Python 3",
   "language": "python",
   "name": "python3"
  },
  "language_info": {
   "codemirror_mode": {
    "name": "ipython",
    "version": 3
   },
   "file_extension": ".py",
   "mimetype": "text/x-python",
   "name": "python",
   "nbconvert_exporter": "python",
   "pygments_lexer": "ipython3",
   "version": "3.8.1"
  }
 },
 "nbformat": 4,
 "nbformat_minor": 4
}
