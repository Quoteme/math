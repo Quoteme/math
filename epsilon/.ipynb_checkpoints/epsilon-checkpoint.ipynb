{
 "cells": [
  {
   "cell_type": "markdown",
   "metadata": {},
   "source": [
    "# Die epsilon Funktion"
   ]
  },
  {
   "cell_type": "markdown",
   "metadata": {},
   "source": [
    "Wir konstruieren eine neue Menge\n",
    "$$H=\\mathbb{R}\\cup \\{\\epsilon\\}$$\n",
    "und definieren darauf zwei Verknüpfungen $$+, \\cdot \\text{ mit } \\epsilon^2=0, \\epsilon\\neq 0 $$\n",
    "\n",
    "Nun wollen wir die Eigenschaften von $(H, +, \\cdot) $ herausfinden"
   ]
  },
  {
   "cell_type": "code",
   "execution_count": 1,
   "metadata": {},
   "outputs": [],
   "source": [
    "import numpy as np\n",
    "import matplotlib.pyplot as plt\n",
    "%matplotlib inline\n",
    "import matplotlib.cbook as cbook\n",
    "import random as random\n",
    "# für widgets zum interagieren\n",
    "from __future__ import print_function\n",
    "from ipywidgets import interact, interactive, fixed, interact_manual\n",
    "import ipywidgets as widgets"
   ]
  },
  {
   "cell_type": "code",
   "execution_count": 2,
   "metadata": {},
   "outputs": [],
   "source": [
    "class Epsilon:\n",
    "    def __init__(self,a,b):\n",
    "        self.re = a\n",
    "        self.ep = b\n",
    "    def __add__ (self, other):\n",
    "        return Epsilon(self.re*other.re,self.ep+other.ep)\n",
    "    def __mul__ (self, other):\n",
    "        # distributivgesetz\n",
    "        return Epsilon(self.re*other.re,self.re*other.ep+self.ep*other.re)\n",
    "    def __pow__ (self, other):\n",
    "        # e^x = Summe von x^n/n! für n = 0,1,...\n",
    "        # e^(a+bε) = e^a * e^(bε)\n",
    "        # e^(b*ε) = (e^ε)^b\n",
    "        # e^ε  = 1/0! + ε/1! + 0/3! + 0/4! + ...\n",
    "        #      = 1+ε\n",
    "        # => x in IR, x^(a+bε) = e^ln(x)*(a+bε) = e^(ln(x)*a) * (1+ε)^(ln(x)*b)\n",
    "        # (a+bε)^x = e^(ln(a+bε)*x)\n",
    "        # ln(a+bε) = c+dε <=> e^(c+dε) = a+bε\n",
    "        #                 <=> e^c * d(1+ε) = a+bε\n",
    "        #                 <=> e^c*d + e^c*dε = a+bε\n",
    "        # => ln(a+bε) existier <=> a=b = e^c*d, c,d in IR\n",
    "            raise ValueError('nicht implementiert')\n",
    "    def __repr__ (self):\n",
    "        return str(self.re)+\" + \"+str(self.ep)+\"ε\" "
   ]
  },
  {
   "cell_type": "code",
   "execution_count": 3,
   "metadata": {},
   "outputs": [
    {
     "data": {
      "text/plain": [
       "1 + 1ε"
      ]
     },
     "execution_count": 3,
     "metadata": {},
     "output_type": "execute_result"
    }
   ],
   "source": [
    "Epsilon(1,1)"
   ]
  },
  {
   "cell_type": "code",
   "execution_count": 4,
   "metadata": {},
   "outputs": [
    {
     "data": {
      "text/plain": [
       "2 + 4ε"
      ]
     },
     "execution_count": 4,
     "metadata": {},
     "output_type": "execute_result"
    }
   ],
   "source": [
    "Epsilon(1,1)+Epsilon(2,3)"
   ]
  },
  {
   "cell_type": "code",
   "execution_count": 5,
   "metadata": {},
   "outputs": [
    {
     "data": {
      "text/plain": [
       "0 + 0ε"
      ]
     },
     "execution_count": 5,
     "metadata": {},
     "output_type": "execute_result"
    }
   ],
   "source": [
    "Epsilon(1,0)*Epsilon(0,0)"
   ]
  },
  {
   "cell_type": "code",
   "execution_count": 6,
   "metadata": {
    "scrolled": true
   },
   "outputs": [
    {
     "data": {
      "text/plain": [
       "(1, 2)"
      ]
     },
     "execution_count": 6,
     "metadata": {},
     "output_type": "execute_result"
    }
   ],
   "source": [
    "(Epsilon(1,2).re, Epsilon(1,2).ep)"
   ]
  },
  {
   "cell_type": "code",
   "execution_count": 7,
   "metadata": {
    "scrolled": false
   },
   "outputs": [
    {
     "data": {
      "application/vnd.jupyter.widget-view+json": {
       "model_id": "a43d42e17fc44273ab2de1f371713334",
       "version_major": 2,
       "version_minor": 0
      },
      "text/plain": [
       "interactive(children=(FloatSlider(value=1.5, description='re', max=4.5, min=-1.5), FloatSlider(value=1.5, desc…"
      ]
     },
     "metadata": {},
     "output_type": "display_data"
    }
   ],
   "source": [
    "def gitterplot(a, x=-5, y=-5, w=10, h=10):\n",
    "    # Erstelle ein Gitter (Grid) aus Epsilonzahlen\n",
    "    xn = np.linspace(x,w,30)\n",
    "    yn = np.linspace(y,h,10)\n",
    "    grid = np.array([[Epsilon(x,y) for y in yn] for x in xn]) \n",
    "\n",
    "    # multipliziere alle Ep.Zahlen aus dem Gitter mit a\n",
    "    print(\"a = \" + str(a))\n",
    "    grid *= a\n",
    "\n",
    "    # Finde alle Realteile der Ep.Zahlen aus dem Gitter (in einer Liste)\n",
    "    re = [ e.re for e in grid.flatten() ]\n",
    "\n",
    "    # Finde alle Epsilonteile der Ep.Zahlen aus dem Gitter (in einer Liste)\n",
    "    ep = [ e.ep for e in grid.flatten() ]\n",
    "\n",
    "    fig, ax = plt.subplots()\n",
    "    #ax.scatter(x, y, s, c, marker=verts)\n",
    "\n",
    "    ax.scatter(re, ep)\n",
    "\n",
    "    plt.show()\n",
    "\n",
    "@interact(re=1.5, ep=1.5)\n",
    "def f(re,ep):\n",
    "    gitterplot(Epsilon(re,ep))"
   ]
  }
 ],
 "metadata": {
  "kernelspec": {
   "display_name": "Python 3",
   "language": "python",
   "name": "python3"
  },
  "language_info": {
   "codemirror_mode": {
    "name": "ipython",
    "version": 3
   },
   "file_extension": ".py",
   "mimetype": "text/x-python",
   "name": "python",
   "nbconvert_exporter": "python",
   "pygments_lexer": "ipython3",
   "version": "3.8.1"
  }
 },
 "nbformat": 4,
 "nbformat_minor": 4
}
